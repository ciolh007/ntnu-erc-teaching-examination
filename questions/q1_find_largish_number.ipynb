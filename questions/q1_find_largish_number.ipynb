{
 "cells": [
  {
   "cell_type": "markdown",
   "id": "premium-saskatchewan",
   "metadata": {},
   "source": [
    "<div class=\"question_frame\">\n",
    "<!-- start of question_frame -->"
   ]
  },
  {
   "cell_type": "markdown",
   "id": "dangerous-press",
   "metadata": {},
   "source": [
    "<h3>FindLargish Numbers</h3>\n",
    "        \n",
    "<div class=\"question_body\">\n",
    "            \n",
    "<p>Implement a python routine <code>findLargishNumbers</code> that returns all\n",
    "items in a list that are within the range of 50% of the second largest element \n",
    "in the list. For example, the second largest item in the list <code>[1, 2, 3, 4, 5, 6, 7, 8, 9, 10, 11]</code> is\n",
    "<code>10</code>, the range will be from 10 - 0.5*10 = 5 to 10 + 0.5*10 = 15. \n",
    "So your routine should return <code>[5,6,7,8,9,10,11]</code></p>\n",
    "\n",
    "        \n",
    "</div>\n",
    "<!-- end of question_body -->"
   ]
  },
  {
   "cell_type": "markdown",
   "id": "rubber-affiliate",
   "metadata": {},
   "source": [
    "<div class=\"question_marks\">\n",
    "    <span class=\"mark_num\">10</span> marks\n",
    "</div><!-- end of question_marks -->\n",
    "\n",
    "<div class=\"question_answer_box\" >\n",
    "\n",
    "<code>\n",
    "<pre>\n",
    "\n",
    "def findLargishNumbers( lst ):\n",
    "\n",
    "\n",
    "findLargishNumbers( [0,5,1,4,7,1,-1,-1,5,-1] ) => [5, 4, 7, 5]\n",
    "findLargishNumbers( [6,-2,7,1,6,5,-2,3,2,-2] ) => [6, 7, 6, 5, 3]\n",
    "findLargishNumbers( [6,2,5,3,3,2,-1,4,6,7] ) => [6, 5, 3, 3, 4, 6, 7]\n",
    "findLargishNumbers( [2,2,3,3,4,0,7,3,1,-1] ) => [2, 2, 3, 3, 4, 3]\n",
    "findLargishNumbers( [0,6,7,3,2,1,0,-2,3,-2] ) => [6, 7, 3, 3]\n",
    "findLargishNumbers( [4,5,6] ) => [4, 5, 6]\n",
    "findLargishNumbers( [3] ) => None\n",
    "findLargishNumbers( [3,9] ) => [3]\n",
    "\n",
    "</pre>\n",
    "</code>\n",
    "\n",
    "</div><!-- end of question_answer_box -->"
   ]
  },
  {
   "cell_type": "code",
   "execution_count": null,
   "id": "reliable-distributor",
   "metadata": {},
   "outputs": [],
   "source": []
  },
  {
   "cell_type": "markdown",
   "id": "flying-universal",
   "metadata": {},
   "source": [
    "<div class=\"question_solution\"><!-- start of question_solution -->\n",
    "<p>Solution:</p>\n",
    "\n",
    "<code>\n",
    "<pre>\n",
    "\n",
    "def findLargishNumbers( lst ):\n",
    "#starthide\n",
    "    mmax = None\n",
    "    mmax2 = None\n",
    "    for l in lst:\n",
    "        if mmax is None or mmax &lt;= l:\n",
    "            mmax2 = mmax\n",
    "            mmax = l\n",
    "        elif mmax2 is None or mmax2 &lt;= l:\n",
    "            mmax2 = l\n",
    "    if mmax2:\n",
    "        res = [ l for l in lst if l &gt;= 0.5 * mmax2 and l &lt;= 1.5 * mmax2 ]\n",
    "    else:\n",
    "        res = None\n",
    "    return res\n",
    "#endhide\n",
    "\n",
    "</pre>\n",
    "</code>\n",
    "\n",
    "</div><!-- end of question_solution -->"
   ]
  },
  {
   "cell_type": "markdown",
   "id": "premier-safety",
   "metadata": {},
   "source": [
    "</div>\n",
    "<!-- end of question_frame -->"
   ]
  }
 ],
 "metadata": {
  "kernelspec": {
   "display_name": "Python 3",
   "language": "python",
   "name": "python3"
  }
 },
 "nbformat": 4,
 "nbformat_minor": 5
}
