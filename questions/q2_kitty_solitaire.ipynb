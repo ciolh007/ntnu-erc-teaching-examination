{
 "cells": [
  {
   "cell_type": "markdown",
   "id": "elect-accountability",
   "metadata": {},
   "source": [
    "<div class=\"question_frame\">\n",
    "<!-- start of question_frame -->"
   ]
  },
  {
   "cell_type": "markdown",
   "id": "architectural-mapping",
   "metadata": {},
   "source": [
    "<h3>Kitty Solitaire - Complexity</h3>\n",
    "        \n",
    "<div class=\"question_body\">\n",
    "            \n",
    "<p>The following puzzle is a puzzle taken from the \n",
    "<a href=\"https://layton.fandom.com/\">Professor Layton series of games</a>.\n",
    "</p>\n",
    "\n",
    "<p>\n",
    "In the <a href=\"https://layton.fandom.com/wiki/Puzzle:Kitty_Solitaire\">Professor Layton Kitty Solitaire</a> puzzle, you are given a board of\n",
    "size 5 by 5 (see below). There are 8 white and 1 black kitten named Lucky.\n",
    "</p>\n",
    "\n",
    "<p>At the beginning, the kittens are arranged on the board as shown below</p>\n",
    "\n",
    "<div style=\"text-align:center\">\n",
    "<img src=\"https://static.wikia.nocookie.net/layton/images/3/30/MM050.png\"></img>\n",
    "</div>\n",
    "\n",
    "<p>A kitten can jump horizontally, vertically, or diagonal over any white kitten, \n",
    "but not the black kitten Lucky. Any kitten that is jumped over is removed from the board.</p>\n",
    "\n",
    "<p>The goal is to remove all white kittens by jumping over them. At the end Lucky must be\n",
    "in the center of the board.</p>\n",
    "\n",
    "        \n",
    "</div>\n",
    "<!-- end of question_body -->"
   ]
  },
  {
   "cell_type": "markdown",
   "id": "green-trailer",
   "metadata": {},
   "source": [
    "<div class=\"question_marks\">\n",
    "    <span class=\"mark_num\">8</span> marks\n",
    "</div><!-- end of question_marks -->\n",
    "\n",
    "<div class=\"question_answer_box\" >\n",
    "\n",
    "<p>Estimate the complexity of the search space for this problem, that is the number of different\n",
    "world states and the number of moves needed to find a solution.</p>\n",
    "\n",
    "<p>Enter the number of possible states for this puzzle here: <input type=\"number\"></input></p>\n",
    "\n",
    "<p>Estimate the number of moves necessary before the solution is found here: <input type=\"number\"></input>\n",
    "</p>\n",
    "\n",
    "</div><!-- end of question_answer_box -->"
   ]
  },
  {
   "cell_type": "code",
   "execution_count": null,
   "id": "arbitrary-nancy",
   "metadata": {},
   "outputs": [],
   "source": []
  },
  {
   "cell_type": "markdown",
   "id": "mathematical-hammer",
   "metadata": {},
   "source": [
    "<div class=\"question_solution\"><!-- start of question_solution -->\n",
    "<p>Solution:</p>\n",
    "\n",
    "<p>Enter the number of possible states for this puzzle here: 18386775.0</p>\n",
    "\n",
    "<p>Estimate the number of moves necessary before the solution is found here: 8</p>\n",
    "\n",
    "</div><!-- end of question_solution -->"
   ]
  },
  {
   "cell_type": "markdown",
   "id": "standing-probability",
   "metadata": {},
   "source": [
    "</div>\n",
    "<!-- end of question_frame -->"
   ]
  },
  {
   "cell_type": "markdown",
   "id": "collective-kelly",
   "metadata": {},
   "source": [
    "<div class=\"question_frame\">\n",
    "<!-- start of question_frame -->"
   ]
  },
  {
   "cell_type": "markdown",
   "id": "packed-panel",
   "metadata": {},
   "source": [
    "<h3>Kitty Solitaire - State Representation</h3>\n",
    "        \n",
    "<div class=\"question_body\">\n",
    "            \n",
    "<p>\n",
    "To apply a heuristic search you need to define the following information: initial state, sccuessor function,\n",
    "and is_goal function.\n",
    "</p>\n",
    "\n",
    "<p>Describe the state representation that you choose to solve this puzzle and show the initial state\n",
    "of the puzzle in your representation</p>\n",
    "\n",
    "        \n",
    "</div>\n",
    "<!-- end of question_body -->"
   ]
  },
  {
   "cell_type": "markdown",
   "id": "natural-option",
   "metadata": {},
   "source": [
    "<div class=\"question_marks\">\n",
    "    <span class=\"mark_num\">5</span> marks\n",
    "</div><!-- end of question_marks -->\n",
    "\n",
    "<div class=\"question_answer_box\" >\n",
    "\n",
    "initial = \n",
    "\n",
    "</div><!-- end of question_answer_box -->"
   ]
  },
  {
   "cell_type": "code",
   "execution_count": null,
   "id": "awful-copyright",
   "metadata": {},
   "outputs": [],
   "source": []
  },
  {
   "cell_type": "markdown",
   "id": "computational-lying",
   "metadata": {},
   "source": [
    "<div class=\"question_solution\"><!-- start of question_solution -->\n",
    "<p>Solution:</p>\n",
    "\n",
    "<code>\n",
    "<pre>\n",
    "EMPTY, WHITE_CAT, LUCKY = 0, 1, 2\n",
    "board = [ [ 0, 0, 0, 0, 0 ], \n",
    "          [ 0, 1, 1, 1, 0 ], \n",
    "          [ 0, 1, 2, 1, 0 ], \n",
    "          [ 0, 1, 1, 1, 0 ], \n",
    "          [ 0, 0, 0, 0, 0 ] ]\n",
    "</pre>\n",
    "</code>\n",
    "\n",
    "</div><!-- end of question_solution -->"
   ]
  },
  {
   "cell_type": "markdown",
   "id": "breeding-fleet",
   "metadata": {},
   "source": [
    "</div>\n",
    "<!-- end of question_frame -->"
   ]
  },
  {
   "cell_type": "markdown",
   "id": "retained-documentary",
   "metadata": {},
   "source": [
    "<div class=\"question_frame\">\n",
    "<!-- start of question_frame -->"
   ]
  },
  {
   "cell_type": "markdown",
   "id": "broadband-illinois",
   "metadata": {},
   "source": [
    "<h3>Kitty Solitaire - Successor Function</h3>\n",
    "        \n",
    "<div class=\"question_body\">\n",
    "            \n",
    "<p>Next you will implement the successor function of your kitty solitaire solver</p>\n",
    "\n",
    "<p>Implement a function <code>kitty_solitaire_children(current)</code> which returns all\n",
    "the successors/children of the state <code>current</code>.</p>\n",
    "\n",
    "        \n",
    "</div>\n",
    "<!-- end of question_body -->"
   ]
  },
  {
   "cell_type": "markdown",
   "id": "defensive-uganda",
   "metadata": {},
   "source": [
    "<div class=\"question_marks\">\n",
    "    <span class=\"mark_num\">8</span> marks\n",
    "</div><!-- end of question_marks -->\n",
    "\n",
    "<div class=\"question_answer_box\" >\n",
    "\n",
    "<p>Enter the number of children/successors for the initial/start state of the game:\n",
    "<input type=\"number\"></input>\n",
    "\n",
    "<p>Show the implementation of your function <code>kitty_solitaire_children(current)</code>\n",
    "in the box below.</p>\n",
    "\n",
    "<code>\n",
    "<pre>\n",
    "def kitty_solitaire_children(current):\n",
    "</pre>\n",
    "</code>\n",
    "\n",
    "</div><!-- end of question_answer_box -->"
   ]
  },
  {
   "cell_type": "code",
   "execution_count": null,
   "id": "junior-medicare",
   "metadata": {},
   "outputs": [],
   "source": []
  },
  {
   "cell_type": "markdown",
   "id": "amino-aurora",
   "metadata": {},
   "source": [
    "<div class=\"question_solution\"><!-- start of question_solution -->\n",
    "<p>Solution:</p>\n",
    "\n",
    "<p>Enter the number of children/successors for the initial/start state of the game:\n",
    "16\n",
    "\n",
    "</div><!-- end of question_solution -->"
   ]
  },
  {
   "cell_type": "markdown",
   "id": "conscious-hello",
   "metadata": {},
   "source": [
    "</div>\n",
    "<!-- end of question_frame -->"
   ]
  },
  {
   "cell_type": "markdown",
   "id": "extra-richardson",
   "metadata": {},
   "source": [
    "<div class=\"question_frame\">\n",
    "<!-- start of question_frame -->"
   ]
  },
  {
   "cell_type": "markdown",
   "id": "cleared-strip",
   "metadata": {},
   "source": [
    "<h3>Kitty Solitaire - Heuristic Function</h3>\n",
    "        \n",
    "<div class=\"question_body\">\n",
    "            \n",
    "<p>Define a heuristic function to guide your search. Would you choose an \n",
    "<emph>admissible</emph>heuristic function (for example, a distance function) for this problem?</p>\n",
    "\n",
    "        \n",
    "</div>\n",
    "<!-- end of question_body -->"
   ]
  },
  {
   "cell_type": "markdown",
   "id": "together-inflation",
   "metadata": {},
   "source": [
    "<div class=\"question_marks\">\n",
    "    <span class=\"mark_num\">13</span> marks\n",
    "</div><!-- end of question_marks -->\n",
    "\n",
    "<div class=\"question_answer_box\" >\n",
    "\n",
    "<p>Show the implementation of your function <code>kitty_solitaire_heuristic(current)</code>\n",
    "in the box below.</p>\n",
    "\n",
    "<code>\n",
    "<pre>\n",
    "def kitty_solitaire_heuristic(current):\n",
    "</pre>\n",
    "</code>\n",
    "\n",
    "</div><!-- end of question_answer_box -->"
   ]
  },
  {
   "cell_type": "code",
   "execution_count": null,
   "id": "german-discount",
   "metadata": {},
   "outputs": [],
   "source": []
  },
  {
   "cell_type": "markdown",
   "id": "southwest-excellence",
   "metadata": {},
   "source": [
    "</div>\n",
    "<!-- end of question_frame -->"
   ]
  },
  {
   "cell_type": "markdown",
   "id": "criminal-nursing",
   "metadata": {},
   "source": [
    "<div class=\"question_frame\">\n",
    "<!-- start of question_frame -->"
   ]
  },
  {
   "cell_type": "markdown",
   "id": "egyptian-command",
   "metadata": {},
   "source": [
    "<h3>Kitty Solitaire - A* Search</h3>\n",
    "        \n",
    "<div class=\"question_body\">\n",
    "            \n",
    "<p>Given here is a framework for A* heuristic search as discussed in class. Assuming that you defined\n",
    "the initial states, successor function, heuristic function, and is_goal function as described above,\n",
    "you can use this code to find a solution.\n",
    "</p>\n",
    "\n",
    "<code>\n",
    "<pre>\n",
    "def heuristic_search( initial, successor_func, is_goal_func, heur_func, node_limit = 1000, depth_limit = None, ax = None ):\n",
    "    queue = [ ( initial, heur_func(initial), 0, [initial] ) ]\n",
    "    num_nodes = 1\n",
    "    max_queue = 0\n",
    "    sol = None\n",
    "    visited = [ ]\n",
    "    frames = []\n",
    "\n",
    "    #print(\"Search started\", queue)\n",
    "    while( len( queue ) > 0 ):\n",
    "        # queue = queue[0:-1]\n",
    "        #print(\"Q\", queue)\n",
    "        if ( len(queue) > max_queue ):\n",
    "              max_queue = len(queue)\n",
    "        current, current_h, current_g, chist = queue.pop()\n",
    "        visited.append( current )\n",
    "        if ax is not None:\n",
    "          #print('visited', visited )\n",
    "          frame = drawEnvironment( ax, env, visited )\n",
    "          frames.append( frame )\n",
    "\n",
    "        #print('   ' * len(chist), current, '[', chist, ']' )\n",
    "        #print(\"Num Nodes\", numNodes)\n",
    "        #print( len(chist), depthLimit, printState( current ) )\n",
    "        if is_goal_func( current ):\n",
    "            sol = chist\n",
    "            break\n",
    "        if ( depth_limit is None ) or ( len(chist) <= depth_limit ):\n",
    "            print(\"current state\", current, current_h, current_g, chist )\n",
    "            print(\"queue\", queue)\n",
    "            children = successor_func( current )\n",
    "            #print(\"children\", children)\n",
    "            for child in children:\n",
    "                c, cost = child\n",
    "                if c not in chist:\n",
    "                    #print(\"Add child\", printState(c))\n",
    "                    h = heur_func( c )\n",
    "                    g = current_g + cost\n",
    "                    pos = 0\n",
    "                    for i in range(len(queue)-1, -1, -1 ):\n",
    "                      if ( queue[i][1] + queue[i][2] >= h + g ):\n",
    "                        pos = i + 1\n",
    "                        break\n",
    "                    queue.insert(pos, (c, h, g, chist + [c] ))\n",
    "                    num_nodes = num_nodes + 1\n",
    "                    if ( num_nodes > node_limit ):\n",
    "                        print(\"search terminated with num_nodes\", num_nodes )\n",
    "                        return ( num_nodes, max_queue, None )\n",
    "        # else:\n",
    "        #   print(\"Depth cutoff\", len(chist), \">\", depth_limit )\n",
    "    return ( num_nodes, max_queue, sol, frames )\n",
    "</pre>\n",
    "</code>\n",
    "\n",
    "        \n",
    "</div>\n",
    "<!-- end of question_body -->"
   ]
  },
  {
   "cell_type": "markdown",
   "id": "buried-ebony",
   "metadata": {},
   "source": [
    "<div class=\"question_marks\">\n",
    "    <span class=\"mark_num\">8</span> marks\n",
    "</div><!-- end of question_marks -->\n",
    "\n",
    "<div class=\"question_answer_box\" >\n",
    "\n",
    "<p>How many nodes were expanded by your A* search algorithm before finding a solution: <input type=\"number\"></input>\n",
    "</p>\n",
    "<p>Show the maximum queue length of your A* search algorithm before finding a solution: <input type=\"number\"></input>\n",
    "</p>\n",
    "\n",
    "<p>Show the solution that was found by your algorithm</p>\n",
    "\n",
    "</div><!-- end of question_answer_box -->"
   ]
  },
  {
   "cell_type": "code",
   "execution_count": null,
   "id": "prostate-queens",
   "metadata": {},
   "outputs": [],
   "source": []
  },
  {
   "cell_type": "markdown",
   "id": "careful-swiss",
   "metadata": {},
   "source": [
    "<div class=\"question_solution\"><!-- start of question_solution -->\n",
    "<p>Solution:</p>\n",
    "\n",
    "<p>Enter the number of children/successors for the initial/start state of the game:\n",
    "16\n",
    "\n",
    "</div><!-- end of question_solution -->"
   ]
  },
  {
   "cell_type": "markdown",
   "id": "fitting-reader",
   "metadata": {},
   "source": [
    "</div>\n",
    "<!-- end of question_frame -->"
   ]
  }
 ],
 "metadata": {
  "kernelspec": {
   "display_name": "Python 3",
   "language": "python",
   "name": "python3"
  }
 },
 "nbformat": 4,
 "nbformat_minor": 5
}
