{
 "cells": [
  {
   "cell_type": "markdown",
   "id": "rolled-chile",
   "metadata": {},
   "source": [
    "<div class=\"question_frame\">\n",
    "<!-- start of question_frame -->"
   ]
  },
  {
   "cell_type": "markdown",
   "id": "unlimited-presentation",
   "metadata": {},
   "source": [
    "<h3>Colored Dots Game</h3>\n",
    "        \n",
    "<div class=\"question_body\">\n",
    "            \n",
    "<p>The following puzzle is an extension of the <a href=\"https://www.bbc.co.uk/programmes/articles/2M07TcR4yl07ZjxSwmLy9j4/today-puzzle-714\">BBC Puzzle for Today #714</a>.</p>\n",
    "\n",
    "<p>\n",
    "You have a uncolored <code>nDots</code>=7 dots lined up in a row from left to right. \n",
    "The game is played by <code>maxPlayers</code>=2 players.\n",
    "Each player has a different color.\n",
    "Starting from the leftmost uncolored dot, the current player will fill in from <code>maxDots</code> = \n",
    "1 to 2 dots with their color.\n",
    "Then the next player will continue coloring in dots from the left.\n",
    "</p>\n",
    "\n",
    "<p>Implement a python routine <code>genColoredStrings(...)</code> that returns all\n",
    "possible sequences that can be produced using this game.\n",
    "</p>\n",
    "\n",
    "<p>The answer to this puzzle shows that the number of possibilites follows the <a href=\"https://en.wikipedia.org/wiki/Fibonacci\">Fibonacci sequence</a>.</p>\n",
    "\n",
    "<p>If the number of dots is 7, the maximum number of dots per turn is 2, and there are two players, \n",
    "then your routine should return 21 different sequences.</p>\n",
    "\n",
    "        \n",
    "</div>\n",
    "<!-- end of question_body -->"
   ]
  },
  {
   "cell_type": "markdown",
   "id": "dirty-pattern",
   "metadata": {},
   "source": [
    "<div class=\"question_marks\">\n",
    "    <span class=\"mark_num\">15</span> marks\n",
    "</div><!-- end of question_marks -->\n",
    "\n",
    "<div class=\"question_answer_box\" >\n",
    "\n",
    "<code>\n",
    "<pre>\n",
    "def genColoredStrings(\n",
    "    ...\n",
    "\n",
    "Number of chains of size 1 with 2 players with maxDots=2 per player 1\n",
    "Number of chains of size 2 with 2 players with maxDots=2 per player 2\n",
    "Number of chains of size 3 with 2 players with maxDots=2 per player 3\n",
    "Number of chains of size 4 with 2 players with maxDots=2 per player 5\n",
    "Number of chains of size 5 with 2 players with maxDots=2 per player 8\n",
    "Number of chains of size 6 with 2 players with maxDots=2 per player 13\n",
    "Number of chains of size 7 with 2 players with maxDots=2 per player 21\n",
    "\n",
    "</pre>\n",
    "</code>\n",
    "\n",
    "</div><!-- end of question_answer_box -->"
   ]
  },
  {
   "cell_type": "code",
   "execution_count": null,
   "id": "crude-hierarchy",
   "metadata": {},
   "outputs": [],
   "source": []
  },
  {
   "cell_type": "markdown",
   "id": "golden-interpretation",
   "metadata": {},
   "source": [
    "<div class=\"question_solution\"><!-- start of question_solution -->\n",
    "<p>Solution:</p>\n",
    "\n",
    "<code class=\"\">\n",
    "<pre>\n",
    "\n",
    "def genColoredStrings( currentChain, remLen, maxPerPlayer, currentColorIndex, colors, level = 0 ):\n",
    "    #print(&quot;   &quot; * level, &#x27;genColoredStrings(&#x27;, currentChain, remLen, currentPlayer, players, maxPerPlayer, currentColorIndex, colors, &#x27;)&#x27;)\n",
    "    #starthide\n",
    "    if remLen &lt;= 0:\n",
    "        results = [ currentChain ]\n",
    "    else:\n",
    "        results = []\n",
    "        if remLen &lt; maxPerPlayer:\n",
    "            cMax = remLen + 1\n",
    "        else:\n",
    "            cMax = maxPerPlayer + 1\n",
    "        for x in range(1,cMax):\n",
    "            #print(&quot;   &quot; * level, &quot;adding 1 dot&quot;)\n",
    "            nChain = currentChain + colors[currentColorIndex] * x\n",
    "            r = genColoredStrings( nChain, remLen - x, maxPerPlayer, ( currentColorIndex + 1 ) % len(colors), colors, level + 1 )\n",
    "            if r:\n",
    "                results.extend(r)\n",
    "    #print(&quot;   &quot; * level, &#x27;&lt;== &#x27;, results )\n",
    "    return results\n",
    "#endhide\n",
    "\n",
    "</pre>\n",
    "</code>\n",
    "\n",
    "</div><!-- end of question_solution -->"
   ]
  },
  {
   "cell_type": "markdown",
   "id": "ahead-damage",
   "metadata": {},
   "source": [
    "</div>\n",
    "<!-- end of question_frame -->"
   ]
  },
  {
   "cell_type": "markdown",
   "id": "scheduled-velvet",
   "metadata": {},
   "source": [
    "<div class=\"question_frame\">\n",
    "<!-- start of question_frame -->"
   ]
  },
  {
   "cell_type": "markdown",
   "id": "fabulous-boards",
   "metadata": {},
   "source": [
    "<h3>Variations of Colored Dots Game</h3>\n",
    "        \n",
    "<div class=\"question_body\">\n",
    "            \n",
    "<p>We will now investigate an extension of this game with a varying number of dots\n",
    "that can be played by each player <code>maxDotsPerPlayer</code>=2 to 5.</p>\n",
    "<p>Implement a function that plots the number of possible chains given <code>maxDotsPerPlayer</code>\n",
    "with a chain length ranging <code>maxNDots</code> ranging from 0 to 15.\n",
    "</p>\n",
    "\n",
    "<p>The resulting graph is shown below:</p>\n",
    "\n",
    "        \n",
    "</div>\n",
    "<!-- end of question_body -->"
   ]
  },
  {
   "cell_type": "markdown",
   "id": "removed-speaking",
   "metadata": {},
   "source": [
    "<div class=\"question_marks\">\n",
    "    <span class=\"mark_num\">10</span> marks\n",
    "</div><!-- end of question_marks -->\n",
    "\n",
    "<div class=\"question_answer_box\" >\n",
    "\n",
    "<code>\n",
    "<pre>\n",
    "import matplotlib.pyplot as plt\n",
    "import numpy as np\n",
    "import random\n",
    "import math\n",
    "\n",
    "maxDotsPerPlayer = 5\n",
    "maxNDots = 15\n",
    "\n",
    "dots = range(2, maxDotsPerPlayer + 1 )\n",
    "xs = np.arange(0,maxNDots)\n",
    "ys = np.zeros((len(dots), len(xs)))\n",
    "...\n",
    "\n",
    "</pre>\n",
    "</code>\n",
    "\n",
    "</div><!-- end of question_answer_box -->"
   ]
  },
  {
   "cell_type": "code",
   "execution_count": null,
   "id": "former-plane",
   "metadata": {},
   "outputs": [],
   "source": []
  },
  {
   "cell_type": "markdown",
   "id": "conservative-hollywood",
   "metadata": {},
   "source": [
    "<div class=\"question_solution\"><!-- start of question_solution -->\n",
    "<p>Solution:</p>\n",
    "\n",
    "<code>\n",
    "<pre>\n",
    "\n",
    "import matplotlib.pyplot as plt\n",
    "import numpy as np\n",
    "import random\n",
    "import math\n",
    "\n",
    "dots = range(2, maxDotsPerPlayer + 1 )\n",
    "xs = np.arange(0,maxNDots)\n",
    "ys = np.zeros((len(dots), len(xs)))\n",
    "\n",
    "for d in range(len(dots)):\n",
    "    for c in range(len(xs)):\n",
    "        ys[d,c] = len( genColoredStrings( &quot;&quot;, xs[c], dots[d], 0, &quot;RG&quot; ) )\n",
    "\n",
    "fig = plt.figure( figsize=(10,10) )\n",
    "ax = fig.add_subplot(1,1,1)\n",
    "\n",
    "for d in range(len(dots)):\n",
    "    ax.plot(xs, ys[d], &#x27;-&#x27;, label=f&quot;max dots per player = {dots[d]}&quot; )\n",
    "ax.legend()\n",
    "\n",
    "</pre>\n",
    "</code>\n",
    "\n",
    "</div><!-- end of question_solution -->"
   ]
  },
  {
   "cell_type": "markdown",
   "id": "polyphonic-relative",
   "metadata": {},
   "source": [
    "</div>\n",
    "<!-- end of question_frame -->"
   ]
  }
 ],
 "metadata": {
  "kernelspec": {
   "display_name": "Python 3",
   "language": "python",
   "name": "python3"
  }
 },
 "nbformat": 4,
 "nbformat_minor": 5
}
